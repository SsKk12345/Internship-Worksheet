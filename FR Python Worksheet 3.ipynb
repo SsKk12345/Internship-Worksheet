{
 "cells": [
  {
   "cell_type": "markdown",
   "id": "dffc68e5",
   "metadata": {},
   "source": [
    "### Q: Write a python function print pyramid of stars. Level of the pyramid should be taken as an input from the user."
   ]
  },
  {
   "cell_type": "code",
   "execution_count": 1,
   "id": "2636aa6f",
   "metadata": {},
   "outputs": [],
   "source": [
    "# making user defined function\n",
    "def pyramid():\n",
    "    # taking user input for number of levels\n",
    "    level = int(input('Enter the number of levels:'))\n",
    "    \n",
    "    # using for loop for iteration upto entered level\n",
    "    for i in range(level+1):\n",
    "        \n",
    "        # handling space by the help of for loop\n",
    "        for space in range(level-i):\n",
    "            print(end = ' ')\n",
    "            \n",
    "        # printing *    \n",
    "        for j in range(i):\n",
    "            print('*', end = ' ')\n",
    "        \n",
    "        # making new row after every complete iteration\n",
    "        print('\\r')"
   ]
  },
  {
   "cell_type": "code",
   "execution_count": 2,
   "id": "f4d7352d",
   "metadata": {},
   "outputs": [
    {
     "name": "stdout",
     "output_type": "stream",
     "text": [
      "Enter the number of levels:9\n",
      "         \n",
      "        * \n",
      "       * * \n",
      "      * * * \n",
      "     * * * * \n",
      "    * * * * * \n",
      "   * * * * * * \n",
      "  * * * * * * * \n",
      " * * * * * * * * \n",
      "* * * * * * * * * \n"
     ]
    }
   ],
   "source": [
    "pyramid()"
   ]
  },
  {
   "cell_type": "code",
   "execution_count": 3,
   "id": "a29dc237",
   "metadata": {},
   "outputs": [
    {
     "name": "stdout",
     "output_type": "stream",
     "text": [
      "Enter the number of levels:5\n",
      "     \n",
      "    * \n",
      "   * * \n",
      "  * * * \n",
      " * * * * \n",
      "* * * * * \n"
     ]
    }
   ],
   "source": [
    "pyramid()"
   ]
  },
  {
   "cell_type": "code",
   "execution_count": 4,
   "id": "dc737f3b",
   "metadata": {},
   "outputs": [
    {
     "name": "stdout",
     "output_type": "stream",
     "text": [
      "Enter the number of levels:15\n",
      "               \n",
      "              * \n",
      "             * * \n",
      "            * * * \n",
      "           * * * * \n",
      "          * * * * * \n",
      "         * * * * * * \n",
      "        * * * * * * * \n",
      "       * * * * * * * * \n",
      "      * * * * * * * * * \n",
      "     * * * * * * * * * * \n",
      "    * * * * * * * * * * * \n",
      "   * * * * * * * * * * * * \n",
      "  * * * * * * * * * * * * * \n",
      " * * * * * * * * * * * * * * \n",
      "* * * * * * * * * * * * * * * \n"
     ]
    }
   ],
   "source": [
    "pyramid()"
   ]
  },
  {
   "cell_type": "markdown",
   "id": "3f106ce8",
   "metadata": {},
   "source": [
    "### Q: Write a python function print Hourglass pattern."
   ]
  },
  {
   "cell_type": "code",
   "execution_count": 5,
   "id": "5d8e91c2",
   "metadata": {},
   "outputs": [],
   "source": [
    "def hourglass():\n",
    "    # taking user input\n",
    "    level = int(input('Enter levels:'))\n",
    "    \n",
    "    # using for loop from given level to 0 in reverse so that one less * should be printed in every next iteration\n",
    "    for i in range(level, 0, -1):\n",
    "        \n",
    "        # handling space\n",
    "        for space in range(level-i):\n",
    "            print(end = ' ')\n",
    "            \n",
    "        # printing *\n",
    "        for j in range(i):\n",
    "            print('*', end = ' ')\n",
    "         \n",
    "        # adding new row after every complete iteration\n",
    "        print('\\r')\n",
    "        \n",
    "    # using different for loop to print * in increasing numbers after completion of 1st loop\n",
    "    # this loop is in forward direction so that one more * will be printed in every next iteration \n",
    "    # its range starting from 2 because in centre there should be only one *\n",
    "    for k in range(2,level+1):\n",
    "        \n",
    "        # handling space\n",
    "        for space in range(level-k):\n",
    "            print(end = ' ')\n",
    "        \n",
    "        # printing *\n",
    "        for l in range(k):\n",
    "            print('*', end = ' ')\n",
    "            \n",
    "        # adding new row after every complete iteration\n",
    "        print('\\r')\n",
    "        "
   ]
  },
  {
   "cell_type": "code",
   "execution_count": 6,
   "id": "ab23abe6",
   "metadata": {},
   "outputs": [
    {
     "name": "stdout",
     "output_type": "stream",
     "text": [
      "Enter levels:5\n",
      "* * * * * \n",
      " * * * * \n",
      "  * * * \n",
      "   * * \n",
      "    * \n",
      "   * * \n",
      "  * * * \n",
      " * * * * \n",
      "* * * * * \n"
     ]
    }
   ],
   "source": [
    "hourglass()"
   ]
  },
  {
   "cell_type": "code",
   "execution_count": 7,
   "id": "7455c008",
   "metadata": {},
   "outputs": [
    {
     "name": "stdout",
     "output_type": "stream",
     "text": [
      "Enter levels:9\n",
      "* * * * * * * * * \n",
      " * * * * * * * * \n",
      "  * * * * * * * \n",
      "   * * * * * * \n",
      "    * * * * * \n",
      "     * * * * \n",
      "      * * * \n",
      "       * * \n",
      "        * \n",
      "       * * \n",
      "      * * * \n",
      "     * * * * \n",
      "    * * * * * \n",
      "   * * * * * * \n",
      "  * * * * * * * \n",
      " * * * * * * * * \n",
      "* * * * * * * * * \n"
     ]
    }
   ],
   "source": [
    "hourglass()"
   ]
  },
  {
   "cell_type": "markdown",
   "id": "b9b673a6",
   "metadata": {},
   "source": [
    "### Q: Write a python function to print Pascal’s Triangle. The number of levels in the triangle must be taken as input by the user."
   ]
  },
  {
   "cell_type": "code",
   "execution_count": 24,
   "id": "e9205b07",
   "metadata": {},
   "outputs": [],
   "source": [
    "# making user defined function\n",
    "def pascal():\n",
    "    # taking input for levels from user\n",
    "    level = int(input('Enter number of levels:'))\n",
    "    \n",
    "    # defining a variable so that it can be updated and printed\n",
    "    coef = 1\n",
    "    \n",
    "    # using for loop starting form 1 because pascal triangle starts from 1\n",
    "    for i in range(1, level+1):\n",
    "        \n",
    "        # inner for loop to print numbers\n",
    "        for j in range(i):\n",
    "            \n",
    "            # using if statement to check current entry is 1st entry because 1st number should always 1\n",
    "            if j == 0:\n",
    "                n = 1\n",
    "                \n",
    "            # if the entry is not 1st then cursor will come else statement and execute this line\n",
    "            else:\n",
    "                # multiplying the defined variable with binomial coefficient formula that appears in pascal traingle\n",
    "                coef = coef*(i-j)//j\n",
    "            print(coef, end = ' ')\n",
    "            \n",
    "        # adding new row after every complete iteration\n",
    "        print('\\r')"
   ]
  },
  {
   "cell_type": "code",
   "execution_count": 25,
   "id": "f93b9a02",
   "metadata": {},
   "outputs": [
    {
     "name": "stdout",
     "output_type": "stream",
     "text": [
      "Enter number of levels:5\n",
      "1 \n",
      "1 1 \n",
      "1 2 1 \n",
      "1 3 3 1 \n",
      "1 4 6 4 1 \n"
     ]
    }
   ],
   "source": [
    "pascal()"
   ]
  },
  {
   "cell_type": "code",
   "execution_count": 26,
   "id": "c908b050",
   "metadata": {},
   "outputs": [
    {
     "name": "stdout",
     "output_type": "stream",
     "text": [
      "Enter number of levels:9\n",
      "1 \n",
      "1 1 \n",
      "1 2 1 \n",
      "1 3 3 1 \n",
      "1 4 6 4 1 \n",
      "1 5 10 10 5 1 \n",
      "1 6 15 20 15 6 1 \n",
      "1 7 21 35 35 21 7 1 \n",
      "1 8 28 56 70 56 28 8 1 \n"
     ]
    }
   ],
   "source": [
    "pascal()"
   ]
  },
  {
   "cell_type": "markdown",
   "id": "a5f9b9b2",
   "metadata": {},
   "source": [
    "### Q: Write a python function to print Diamond Shaped Pattern shown below. Function must take integer input which represents the number of stars in the middle most line."
   ]
  },
  {
   "cell_type": "code",
   "execution_count": 34,
   "id": "736569e1",
   "metadata": {},
   "outputs": [],
   "source": [
    "# making user defined function for this\n",
    "def diamond():\n",
    "    # taking input from user for number of stars in middle most line\n",
    "    middle = int(input('Enter the numer of starts in middle most line:'))\n",
    "    \n",
    "    # usng for loop\n",
    "    for i in range(middle+1):\n",
    "        \n",
    "        # using inner for loop to handle space\n",
    "        for space in range(middle-i):\n",
    "            print(end = ' ')\n",
    "        \n",
    "        # printing *\n",
    "        for j in range(i):\n",
    "            print('*', end = ' ')\n",
    "            \n",
    "        # adding new row after every complete iteration\n",
    "        print('\\r')\n",
    "        \n",
    "    # using different for loop to print from reverse after completion of first    \n",
    "    # its range is starting from one less than the entered number to start printing less than the last printed number of *\n",
    "    # and is decreasing gradually so that one less * printed in every next iteration\n",
    "    for k in range((middle-1), 0, -1):\n",
    "        # handling space\n",
    "        for space in range(middle-k):\n",
    "            print(end = ' ')\n",
    "            \n",
    "        # printing *\n",
    "        for l in range(k):\n",
    "            print('*', end = ' ')\n",
    "            \n",
    "        # adding new row after every complete iteration\n",
    "        print('\\r')"
   ]
  },
  {
   "cell_type": "code",
   "execution_count": 35,
   "id": "f7dc4d72",
   "metadata": {},
   "outputs": [
    {
     "name": "stdout",
     "output_type": "stream",
     "text": [
      "Enter the numer of starts in middle most line:5\n",
      "     \n",
      "    * \n",
      "   * * \n",
      "  * * * \n",
      " * * * * \n",
      "* * * * * \n",
      " * * * * \n",
      "  * * * \n",
      "   * * \n",
      "    * \n"
     ]
    }
   ],
   "source": [
    "diamond()"
   ]
  },
  {
   "cell_type": "code",
   "execution_count": 36,
   "id": "9fd74b8a",
   "metadata": {},
   "outputs": [
    {
     "name": "stdout",
     "output_type": "stream",
     "text": [
      "Enter the numer of starts in middle most line:9\n",
      "         \n",
      "        * \n",
      "       * * \n",
      "      * * * \n",
      "     * * * * \n",
      "    * * * * * \n",
      "   * * * * * * \n",
      "  * * * * * * * \n",
      " * * * * * * * * \n",
      "* * * * * * * * * \n",
      " * * * * * * * * \n",
      "  * * * * * * * \n",
      "   * * * * * * \n",
      "    * * * * * \n",
      "     * * * * \n",
      "      * * * \n",
      "       * * \n",
      "        * \n"
     ]
    }
   ],
   "source": [
    "diamond()"
   ]
  },
  {
   "cell_type": "code",
   "execution_count": 37,
   "id": "414dad88",
   "metadata": {},
   "outputs": [
    {
     "name": "stdout",
     "output_type": "stream",
     "text": [
      "Enter the numer of starts in middle most line:15\n",
      "               \n",
      "              * \n",
      "             * * \n",
      "            * * * \n",
      "           * * * * \n",
      "          * * * * * \n",
      "         * * * * * * \n",
      "        * * * * * * * \n",
      "       * * * * * * * * \n",
      "      * * * * * * * * * \n",
      "     * * * * * * * * * * \n",
      "    * * * * * * * * * * * \n",
      "   * * * * * * * * * * * * \n",
      "  * * * * * * * * * * * * * \n",
      " * * * * * * * * * * * * * * \n",
      "* * * * * * * * * * * * * * * \n",
      " * * * * * * * * * * * * * * \n",
      "  * * * * * * * * * * * * * \n",
      "   * * * * * * * * * * * * \n",
      "    * * * * * * * * * * * \n",
      "     * * * * * * * * * * \n",
      "      * * * * * * * * * \n",
      "       * * * * * * * * \n",
      "        * * * * * * * \n",
      "         * * * * * * \n",
      "          * * * * * \n",
      "           * * * * \n",
      "            * * * \n",
      "             * * \n",
      "              * \n"
     ]
    }
   ],
   "source": [
    "diamond()"
   ]
  },
  {
   "cell_type": "markdown",
   "id": "2332056c",
   "metadata": {},
   "source": [
    "### Q: Write a python function to print Diamond Shaped Character Pattern shown below. Function must take integer input within range 1 to 26, which represents the rank of the alphabet."
   ]
  },
  {
   "cell_type": "code",
   "execution_count": 121,
   "id": "a8f4a39e",
   "metadata": {},
   "outputs": [],
   "source": [
    "# making user defined function for this\n",
    "def diamond_character():\n",
    "    # making a list of all alphabet\n",
    "    alphabet = ['A','B','C','D','E','F','G','H','I','J','K','L','M','N','O','P','Q','R','S','T','U','V','W','X','Y','Z']\n",
    "    \n",
    "    # taking user input for rank of alphabet\n",
    "    rank = int(input('Enter the rank of alphabet ranging from 1 to 26:'))\n",
    "    \n",
    "    # using for loop\n",
    "    for i in range(rank+1):\n",
    "        \n",
    "        # inner for loop to handle space\n",
    "        for j in range(rank-i):\n",
    "            print(end = ' ')\n",
    "            \n",
    "        # printing alphabets one by one    \n",
    "        for k in range(i):\n",
    "            print(alphabet[k], end = ' ')\n",
    "            \n",
    "        # changing row after every complete iteration\n",
    "        print('\\r')\n",
    "        \n",
    "    # using for loop from higher range to lower for printing one less alphabet in every next iteration\n",
    "    # its range starting from one less than given input range and gradually decreasing so that it can print one less alphabet\n",
    "    # in every next iteration.\n",
    "    for l in range((rank-1), 0, -1):\n",
    "        \n",
    "        # inner for loop to handle space\n",
    "        for m in range(rank-l):\n",
    "            print(end = ' ')\n",
    "            \n",
    "        # printing alphabets\n",
    "        for n in range(l):\n",
    "            print(alphabet[n], end = ' ')\n",
    "            \n",
    "        print('\\r')"
   ]
  },
  {
   "cell_type": "code",
   "execution_count": 122,
   "id": "43e33bb0",
   "metadata": {},
   "outputs": [
    {
     "name": "stdout",
     "output_type": "stream",
     "text": [
      "Enter the rank of alphabet ranging from 1 to 26:5\n",
      "     \n",
      "    A \n",
      "   A B \n",
      "  A B C \n",
      " A B C D \n",
      "A B C D E \n",
      " A B C D \n",
      "  A B C \n",
      "   A B \n",
      "    A \n"
     ]
    }
   ],
   "source": [
    "diamond_character()"
   ]
  },
  {
   "cell_type": "code",
   "execution_count": 123,
   "id": "7d17cd59",
   "metadata": {},
   "outputs": [
    {
     "name": "stdout",
     "output_type": "stream",
     "text": [
      "Enter the rank of alphabet ranging from 1 to 26:15\n",
      "               \n",
      "              A \n",
      "             A B \n",
      "            A B C \n",
      "           A B C D \n",
      "          A B C D E \n",
      "         A B C D E F \n",
      "        A B C D E F G \n",
      "       A B C D E F G H \n",
      "      A B C D E F G H I \n",
      "     A B C D E F G H I J \n",
      "    A B C D E F G H I J K \n",
      "   A B C D E F G H I J K L \n",
      "  A B C D E F G H I J K L M \n",
      " A B C D E F G H I J K L M N \n",
      "A B C D E F G H I J K L M N O \n",
      " A B C D E F G H I J K L M N \n",
      "  A B C D E F G H I J K L M \n",
      "   A B C D E F G H I J K L \n",
      "    A B C D E F G H I J K \n",
      "     A B C D E F G H I J \n",
      "      A B C D E F G H I \n",
      "       A B C D E F G H \n",
      "        A B C D E F G \n",
      "         A B C D E F \n",
      "          A B C D E \n",
      "           A B C D \n",
      "            A B C \n",
      "             A B \n",
      "              A \n"
     ]
    }
   ],
   "source": [
    "diamond_character()"
   ]
  },
  {
   "cell_type": "code",
   "execution_count": 124,
   "id": "a1674ec6",
   "metadata": {},
   "outputs": [
    {
     "name": "stdout",
     "output_type": "stream",
     "text": [
      "Enter the rank of alphabet ranging from 1 to 26:26\n",
      "                          \n",
      "                         A \n",
      "                        A B \n",
      "                       A B C \n",
      "                      A B C D \n",
      "                     A B C D E \n",
      "                    A B C D E F \n",
      "                   A B C D E F G \n",
      "                  A B C D E F G H \n",
      "                 A B C D E F G H I \n",
      "                A B C D E F G H I J \n",
      "               A B C D E F G H I J K \n",
      "              A B C D E F G H I J K L \n",
      "             A B C D E F G H I J K L M \n",
      "            A B C D E F G H I J K L M N \n",
      "           A B C D E F G H I J K L M N O \n",
      "          A B C D E F G H I J K L M N O P \n",
      "         A B C D E F G H I J K L M N O P Q \n",
      "        A B C D E F G H I J K L M N O P Q R \n",
      "       A B C D E F G H I J K L M N O P Q R S \n",
      "      A B C D E F G H I J K L M N O P Q R S T \n",
      "     A B C D E F G H I J K L M N O P Q R S T U \n",
      "    A B C D E F G H I J K L M N O P Q R S T U V \n",
      "   A B C D E F G H I J K L M N O P Q R S T U V W \n",
      "  A B C D E F G H I J K L M N O P Q R S T U V W X \n",
      " A B C D E F G H I J K L M N O P Q R S T U V W X Y \n",
      "A B C D E F G H I J K L M N O P Q R S T U V W X Y Z \n",
      " A B C D E F G H I J K L M N O P Q R S T U V W X Y \n",
      "  A B C D E F G H I J K L M N O P Q R S T U V W X \n",
      "   A B C D E F G H I J K L M N O P Q R S T U V W \n",
      "    A B C D E F G H I J K L M N O P Q R S T U V \n",
      "     A B C D E F G H I J K L M N O P Q R S T U \n",
      "      A B C D E F G H I J K L M N O P Q R S T \n",
      "       A B C D E F G H I J K L M N O P Q R S \n",
      "        A B C D E F G H I J K L M N O P Q R \n",
      "         A B C D E F G H I J K L M N O P Q \n",
      "          A B C D E F G H I J K L M N O P \n",
      "           A B C D E F G H I J K L M N O \n",
      "            A B C D E F G H I J K L M N \n",
      "             A B C D E F G H I J K L M \n",
      "              A B C D E F G H I J K L \n",
      "               A B C D E F G H I J K \n",
      "                A B C D E F G H I J \n",
      "                 A B C D E F G H I \n",
      "                  A B C D E F G H \n",
      "                   A B C D E F G \n",
      "                    A B C D E F \n",
      "                     A B C D E \n",
      "                      A B C D \n",
      "                       A B C \n",
      "                        A B \n",
      "                         A \n"
     ]
    }
   ],
   "source": [
    "diamond_character()"
   ]
  },
  {
   "cell_type": "code",
   "execution_count": null,
   "id": "c64d8832",
   "metadata": {},
   "outputs": [],
   "source": []
  },
  {
   "cell_type": "code",
   "execution_count": null,
   "id": "a064c0a9",
   "metadata": {},
   "outputs": [],
   "source": []
  },
  {
   "cell_type": "code",
   "execution_count": null,
   "id": "91ee8215",
   "metadata": {},
   "outputs": [],
   "source": []
  }
 ],
 "metadata": {
  "kernelspec": {
   "display_name": "Python 3 (ipykernel)",
   "language": "python",
   "name": "python3"
  },
  "language_info": {
   "codemirror_mode": {
    "name": "ipython",
    "version": 3
   },
   "file_extension": ".py",
   "mimetype": "text/x-python",
   "name": "python",
   "nbconvert_exporter": "python",
   "pygments_lexer": "ipython3",
   "version": "3.9.12"
  }
 },
 "nbformat": 4,
 "nbformat_minor": 5
}
