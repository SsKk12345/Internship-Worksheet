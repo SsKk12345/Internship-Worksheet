{
 "cells": [
  {
   "cell_type": "markdown",
   "id": "4a473522",
   "metadata": {},
   "source": [
    "## Q: Write a python program to find the factorial of a number."
   ]
  },
  {
   "cell_type": "code",
   "execution_count": 1,
   "id": "58fe892d",
   "metadata": {},
   "outputs": [],
   "source": [
    "# defining a function for factorial\n",
    "def factorial():\n",
    "    # using while loop until condition meets.\n",
    "    while True:\n",
    "        try:\n",
    "            # taking input from user\n",
    "            n = int(input('Enter a number:'))\n",
    "        \n",
    "            # using branching\n",
    "            if n == 0 or n == 1:  # because the factorial of 0 is 1 and 1 is 1\n",
    "                return 1\n",
    "     \n",
    "            elif n>1:  # if number will be greater than 1 then find the factorial\n",
    "                fac = 1  # defining a local variable so the numbers will multiply to this and this will keep updating\n",
    "                for i in range(1,n+1):  # using for loop to find all the numbers within entered range\n",
    "                    fac *= i # multiplying number from that variable and then variable will be updated from new number then next\n",
    "                             # number will multiply with that updated variable and the process will keep repeating until\n",
    "                             # the last number\n",
    "                return fac       \n",
    "    \n",
    "            else:    # using else statement if someone entered a negative number by mistake\n",
    "                print('The input is negative number please enter a positive number.')\n",
    "                \n",
    "        except:  # using except block to handle error if someone enter a string instead of number\n",
    "            print('May be you have entered a string please enter a positive number.')"
   ]
  },
  {
   "cell_type": "code",
   "execution_count": 2,
   "id": "56033943",
   "metadata": {},
   "outputs": [
    {
     "name": "stdout",
     "output_type": "stream",
     "text": [
      "Enter a number:8\n"
     ]
    },
    {
     "data": {
      "text/plain": [
       "40320"
      ]
     },
     "execution_count": 2,
     "metadata": {},
     "output_type": "execute_result"
    }
   ],
   "source": [
    "factorial()"
   ]
  },
  {
   "cell_type": "code",
   "execution_count": 3,
   "id": "02ec0db5",
   "metadata": {},
   "outputs": [
    {
     "name": "stdout",
     "output_type": "stream",
     "text": [
      "Enter a number:-2\n",
      "The input is negative number please enter a positive number.\n",
      "Enter a number:a\n",
      "May be you have entered a string please enter a positive number.\n",
      "Enter a number:-3\n",
      "The input is negative number please enter a positive number.\n",
      "Enter a number:9\n"
     ]
    },
    {
     "data": {
      "text/plain": [
       "362880"
      ]
     },
     "execution_count": 3,
     "metadata": {},
     "output_type": "execute_result"
    }
   ],
   "source": [
    "factorial()"
   ]
  },
  {
   "cell_type": "code",
   "execution_count": 4,
   "id": "8701a720",
   "metadata": {},
   "outputs": [
    {
     "name": "stdout",
     "output_type": "stream",
     "text": [
      "Enter a number:\n",
      "May be you have entered a string please enter a positive number.\n",
      "Enter a number:-\n",
      "May be you have entered a string please enter a positive number.\n",
      "Enter a number:-3\n",
      "The input is negative number please enter a positive number.\n",
      "Enter a number:6\n"
     ]
    },
    {
     "data": {
      "text/plain": [
       "720"
      ]
     },
     "execution_count": 4,
     "metadata": {},
     "output_type": "execute_result"
    }
   ],
   "source": [
    "factorial()"
   ]
  },
  {
   "cell_type": "markdown",
   "id": "b61fbcbf",
   "metadata": {},
   "source": [
    "## Q: Write a python program to find whether a number is prime or composite."
   ]
  },
  {
   "cell_type": "code",
   "execution_count": 13,
   "id": "b598bd43",
   "metadata": {},
   "outputs": [],
   "source": [
    "# defining function\n",
    "def prime_composite():\n",
    "    # taking input from user\n",
    "    num = int(input(\"Enter a number:\"))  \n",
    "    \n",
    "    # using branching\n",
    "    if num == 0 or num == 1:\n",
    "        print(num,'is neither prime nor composite.')\n",
    "         \n",
    "    elif num < 0:\n",
    "        print('Negative numbers are not considered as prime or composite.')\n",
    "                 \n",
    "    elif num > 1:  # if number is greater than 1 then it will apply methods\n",
    "        for i in range(2,num):  # using for loop to finding all numbers within entered range\n",
    "            if num % i == 0: # since the number will be divided by any other number so it will be composite number.\n",
    "                print(num, 'is a composite number.')\n",
    "                break  # breaking the loop if number is complete divided by any other number i.e. remainder is 0.\n",
    "                    \n",
    "        else:  # if remainder is not 0 by dividing from other number that means it is divided by 1 and itself hence it is prime.\n",
    "            print(num,'is a prime number.')"
   ]
  },
  {
   "cell_type": "code",
   "execution_count": 14,
   "id": "edafab4a",
   "metadata": {},
   "outputs": [
    {
     "name": "stdout",
     "output_type": "stream",
     "text": [
      "Enter a number:25\n",
      "25 is a composite number.\n"
     ]
    }
   ],
   "source": [
    "prime_composite()"
   ]
  },
  {
   "cell_type": "code",
   "execution_count": 15,
   "id": "e90f76f5",
   "metadata": {},
   "outputs": [
    {
     "name": "stdout",
     "output_type": "stream",
     "text": [
      "Enter a number:29\n",
      "29 is a prime number.\n"
     ]
    }
   ],
   "source": [
    "prime_composite()"
   ]
  },
  {
   "cell_type": "code",
   "execution_count": 16,
   "id": "e49e520c",
   "metadata": {},
   "outputs": [
    {
     "name": "stdout",
     "output_type": "stream",
     "text": [
      "Enter a number:-10\n",
      "Negative numbers are not considered as prime or composite.\n"
     ]
    }
   ],
   "source": [
    "prime_composite()"
   ]
  },
  {
   "cell_type": "code",
   "execution_count": 17,
   "id": "5ec9c445",
   "metadata": {},
   "outputs": [
    {
     "name": "stdout",
     "output_type": "stream",
     "text": [
      "Enter a number:1\n",
      "1 is neither prime nor composite.\n"
     ]
    }
   ],
   "source": [
    "prime_composite()"
   ]
  },
  {
   "cell_type": "code",
   "execution_count": 18,
   "id": "3f0630b1",
   "metadata": {},
   "outputs": [
    {
     "name": "stdout",
     "output_type": "stream",
     "text": [
      "Enter a number:0\n",
      "0 is neither prime nor composite.\n"
     ]
    }
   ],
   "source": [
    "prime_composite()"
   ]
  },
  {
   "cell_type": "markdown",
   "id": "dcdc4136",
   "metadata": {},
   "source": [
    "## Q: Write a python program to check whether a given string is palindrome or not."
   ]
  },
  {
   "cell_type": "code",
   "execution_count": 27,
   "id": "d53307d8",
   "metadata": {},
   "outputs": [],
   "source": [
    "# defining function\n",
    "def palindrome():\n",
    "    string = input('Enter the string:')\n",
    "    \n",
    "    # converting the string in lowercase since python is case sensitive.\n",
    "    lower = string.lower()\n",
    "    \n",
    "    # using branching\n",
    "    if lower == lower[::-1]:    # comparing original string from reversed string.\n",
    "        print('The string is palindrome')\n",
    "        \n",
    "    else:\n",
    "        print('String is not palindrome')\n"
   ]
  },
  {
   "cell_type": "code",
   "execution_count": 28,
   "id": "56ac19c7",
   "metadata": {},
   "outputs": [
    {
     "name": "stdout",
     "output_type": "stream",
     "text": [
      "Enter the string:tit\n",
      "The string is palindrome\n"
     ]
    }
   ],
   "source": [
    "palindrome()"
   ]
  },
  {
   "cell_type": "code",
   "execution_count": 29,
   "id": "d631ac43",
   "metadata": {},
   "outputs": [
    {
     "name": "stdout",
     "output_type": "stream",
     "text": [
      "Enter the string:Tat\n",
      "The string is palindrome\n"
     ]
    }
   ],
   "source": [
    "palindrome()"
   ]
  },
  {
   "cell_type": "code",
   "execution_count": 30,
   "id": "a6717602",
   "metadata": {},
   "outputs": [
    {
     "name": "stdout",
     "output_type": "stream",
     "text": [
      "Enter the string:hat\n",
      "String is not palindrome\n"
     ]
    }
   ],
   "source": [
    "palindrome()"
   ]
  },
  {
   "cell_type": "markdown",
   "id": "68b7626d",
   "metadata": {},
   "source": [
    "### Q: Write a Python program to get the third side of right-angled triangle from two given sides."
   ]
  },
  {
   "cell_type": "code",
   "execution_count": 40,
   "id": "98dbca3a",
   "metadata": {},
   "outputs": [],
   "source": [
    "# defining function\n",
    "def triangle():\n",
    "    # taking user input of sides\n",
    "    p = int(input('Enter perpendicular length of triangle in cm:'))\n",
    "    b = int(input('Enter base of triangle in cm:'))\n",
    "    h = (p**2 + b**2)**(1/2)   # formula of hypotaneous\n",
    "    print('The hypotaneous of triangle is:', round(h,2) , 'cm')\n",
    "    # printing only 2 numbers after decimal"
   ]
  },
  {
   "cell_type": "code",
   "execution_count": 38,
   "id": "9291ca27",
   "metadata": {},
   "outputs": [
    {
     "name": "stdout",
     "output_type": "stream",
     "text": [
      "Enter perpendicular length of triangle in cm:3\n",
      "Enter base of triangle in cm:4\n",
      "The hypotaneous of triangle is: 5.0 cm\n"
     ]
    }
   ],
   "source": [
    "triangle()"
   ]
  },
  {
   "cell_type": "code",
   "execution_count": 42,
   "id": "966e0c77",
   "metadata": {},
   "outputs": [
    {
     "name": "stdout",
     "output_type": "stream",
     "text": [
      "Enter perpendicular length of triangle in cm:10\n",
      "Enter base of triangle in cm:15\n",
      "The hypotaneous of triangle is: 18.03 cm\n"
     ]
    }
   ],
   "source": [
    "triangle()"
   ]
  },
  {
   "cell_type": "markdown",
   "id": "de5ca23e",
   "metadata": {},
   "source": [
    "### Q: Write a python program to print the frequency of each of the characters present in a given string."
   ]
  },
  {
   "cell_type": "code",
   "execution_count": 63,
   "id": "33d66f89",
   "metadata": {},
   "outputs": [],
   "source": [
    "# defining the function\n",
    "def frequency():\n",
    "    # taking input from user\n",
    "    string = input('Enter a string:')\n",
    "    \n",
    "    # making an empty dictionary to hold string characters as key and their frequencies as values\n",
    "    count = {}\n",
    "    \n",
    "    # using for loop to find each character and using .get method of dictionary to count the frequency of each character\n",
    "    for i in string:\n",
    "        count[i] = count.get(i, 0 ) + 1\n",
    "        \n",
    "    print('Frequency of each characters in', string, 'is: \\n', count)"
   ]
  },
  {
   "cell_type": "code",
   "execution_count": 64,
   "id": "4eedbbae",
   "metadata": {},
   "outputs": [
    {
     "name": "stdout",
     "output_type": "stream",
     "text": [
      "Enter a string:hello\n",
      "Frequency of each characters in hello is: \n",
      " {'h': 1, 'e': 1, 'l': 2, 'o': 1}\n"
     ]
    }
   ],
   "source": [
    "frequency()"
   ]
  },
  {
   "cell_type": "code",
   "execution_count": 65,
   "id": "8baddcc1",
   "metadata": {},
   "outputs": [
    {
     "name": "stdout",
     "output_type": "stream",
     "text": [
      "Enter a string:akshaasjskdkss\n",
      "Frequency of each characters in akshaasjskdkss is: \n",
      " {'a': 3, 'k': 3, 's': 5, 'h': 1, 'j': 1, 'd': 1}\n"
     ]
    }
   ],
   "source": [
    "frequency()"
   ]
  },
  {
   "cell_type": "code",
   "execution_count": null,
   "id": "dcbe0b62",
   "metadata": {},
   "outputs": [],
   "source": []
  }
 ],
 "metadata": {
  "kernelspec": {
   "display_name": "Python 3 (ipykernel)",
   "language": "python",
   "name": "python3"
  },
  "language_info": {
   "codemirror_mode": {
    "name": "ipython",
    "version": 3
   },
   "file_extension": ".py",
   "mimetype": "text/x-python",
   "name": "python",
   "nbconvert_exporter": "python",
   "pygments_lexer": "ipython3",
   "version": "3.9.12"
  }
 },
 "nbformat": 4,
 "nbformat_minor": 5
}
