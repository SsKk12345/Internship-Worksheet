{
 "cells": [
  {
   "cell_type": "markdown",
   "id": "5d54c722",
   "metadata": {},
   "source": [
    "### Q: Write a python program to solve a quadratic equation of the form ax^2+bx+c=0. Where a, b and c are to be taken by user input. Handle the erroneous input, such as ‘a’ should not be equal to 0."
   ]
  },
  {
   "cell_type": "code",
   "execution_count": 14,
   "id": "e652e921",
   "metadata": {},
   "outputs": [],
   "source": [
    "# making user defined function\n",
    "def quadratic():\n",
    "    # importing math library to do mathematical calculations\n",
    "    import math\n",
    "    # Taking user inputs for a, b and c\n",
    "    a = float(input('Enter value of a:'))\n",
    "    b = float(input('Enter value of b:'))\n",
    "    c = float(input('Enter value of c:'))\n",
    "    \n",
    "    # checking value of a if 0\n",
    "    if a == 0:\n",
    "        print('The value of a should not be 0.')\n",
    "        \n",
    "    else:\n",
    "        # as we know that in quadratic equation we need to find discriminant\n",
    "        disc = b**2 - 4*a*c\n",
    "        \n",
    "        # as we know if the value of discriminant is less than 0 then there is not any real root of the equation\n",
    "        if disc < 0:\n",
    "            print('The quadratic equation has no real roots.')\n",
    "            \n",
    "        # if the value of discriminant is 0 then the equation has two same values of x or we can say only one value \n",
    "        # and if discriminant is greater than 0 then the equation has two different values of x\n",
    "        elif disc >= 0:\n",
    "            # finding first value of x\n",
    "            x1 = (-b + math.sqrt(disc))/(2*a)\n",
    "            \n",
    "            # finding 2nd value of x\n",
    "            x2 = (-b - math.sqrt(disc))/(2*a)\n",
    "            \n",
    "            print('The values of x is:',round(x1,2),'and',round(x2,2))"
   ]
  },
  {
   "cell_type": "code",
   "execution_count": 18,
   "id": "dfa2ff37",
   "metadata": {},
   "outputs": [
    {
     "name": "stdout",
     "output_type": "stream",
     "text": [
      "Enter value of a:2\n",
      "Enter value of b:-7\n",
      "Enter value of c:3\n",
      "The values of x is: 3.0 and 0.5\n"
     ]
    }
   ],
   "source": [
    "quadratic()"
   ]
  },
  {
   "cell_type": "code",
   "execution_count": 19,
   "id": "5654667d",
   "metadata": {},
   "outputs": [
    {
     "name": "stdout",
     "output_type": "stream",
     "text": [
      "Enter value of a:0\n",
      "Enter value of b:-5\n",
      "Enter value of c:-19\n",
      "The value of a should not be 0.\n"
     ]
    }
   ],
   "source": [
    "quadratic()"
   ]
  },
  {
   "cell_type": "code",
   "execution_count": 17,
   "id": "f4c4b1aa",
   "metadata": {},
   "outputs": [
    {
     "name": "stdout",
     "output_type": "stream",
     "text": [
      "Enter value of a:-1\n",
      "Enter value of b:2\n",
      "Enter value of c:9\n",
      "The values of x is: -2.16 and 4.16\n"
     ]
    }
   ],
   "source": [
    "quadratic()"
   ]
  },
  {
   "cell_type": "markdown",
   "id": "ddd976f2",
   "metadata": {},
   "source": [
    "### Q: Write a python program to find the sum of first ‘n’ natural numbers without using any loop. Ask users to input the value of ‘n’."
   ]
  },
  {
   "cell_type": "code",
   "execution_count": 1,
   "id": "698ba404",
   "metadata": {},
   "outputs": [],
   "source": [
    "# making user defined function\n",
    "def natural_sum():\n",
    "     # taking input from user \n",
    "    n = int(input('Enter the value of n to find the sum upto there:'))\n",
    "\n",
    "    # as we know that the negative and 0 are not natural numbers so handling that error\n",
    "    if n <= 0:\n",
    "        print('It is not a natural number it should be positive starting from 1 to infinity.')\n",
    "    \n",
    "    else:\n",
    "        s = n*(n+1)//2\n",
    "    print('The sum of first',n,'natural numbers is',s)"
   ]
  },
  {
   "cell_type": "code",
   "execution_count": 2,
   "id": "637ef76d",
   "metadata": {},
   "outputs": [
    {
     "name": "stdout",
     "output_type": "stream",
     "text": [
      "Enter the value of n to find the sum upto there:5\n",
      "The sum of first 5 natural numbers is 15\n"
     ]
    }
   ],
   "source": [
    "natural_sum()"
   ]
  },
  {
   "cell_type": "code",
   "execution_count": 3,
   "id": "d670c2f5",
   "metadata": {},
   "outputs": [
    {
     "name": "stdout",
     "output_type": "stream",
     "text": [
      "Enter the value of n to find the sum upto there:9\n",
      "The sum of first 9 natural numbers is 45\n"
     ]
    }
   ],
   "source": [
    "natural_sum()"
   ]
  },
  {
   "cell_type": "code",
   "execution_count": 4,
   "id": "b40be5a5",
   "metadata": {},
   "outputs": [
    {
     "name": "stdout",
     "output_type": "stream",
     "text": [
      "Enter the value of n to find the sum upto there:15\n",
      "The sum of first 15 natural numbers is 120\n"
     ]
    }
   ],
   "source": [
    "natural_sum()"
   ]
  },
  {
   "cell_type": "code",
   "execution_count": null,
   "id": "b43868c2",
   "metadata": {},
   "outputs": [],
   "source": []
  }
 ],
 "metadata": {
  "kernelspec": {
   "display_name": "Python 3 (ipykernel)",
   "language": "python",
   "name": "python3"
  },
  "language_info": {
   "codemirror_mode": {
    "name": "ipython",
    "version": 3
   },
   "file_extension": ".py",
   "mimetype": "text/x-python",
   "name": "python",
   "nbconvert_exporter": "python",
   "pygments_lexer": "ipython3",
   "version": "3.9.12"
  }
 },
 "nbformat": 4,
 "nbformat_minor": 5
}
